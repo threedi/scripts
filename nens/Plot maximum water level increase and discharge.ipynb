{
 "cells": [
  {
   "cell_type": "markdown",
   "metadata": {},
   "source": [
    "# Plot maximum water level increase and discharge\n",
    "\n",
    "Using this script you can calculated the maximum increase in waterlevel\n",
    "Per 1D node it calculates the maximum waterlevel and subtracts the initial waterlevel. In case of a dry bed the reference level of the calculation node is used as the initial waterlevel. The maximum water level increase is then plotted on an OpenStreetMap basemap. The same is done with the maximum discharge of flowlines\n",
    "\n",
    "This script is meant as an example of what is possible in automating analysis of 3Di results. The user should install the requirements themselves using Conda or Pip on a Python 3 environment.\n",
    "\n",
    "- Author: Emiel Verstegen, 2019\n",
    "\n",
    "- email: emiel.verstegen@nelen-schuurmans.nl"
   ]
  },
  {
   "cell_type": "code",
   "execution_count": null,
   "metadata": {},
   "outputs": [],
   "source": [
    "#import libraries, make sure you have them installed on your Python environment\n",
    "from threedigrid.admin.gridresultadmin import GridH5ResultAdmin\n",
    "from threedigrid.admin.gridadmin import GridH5Admin\n",
    "import os\n",
    "import numpy as np\n",
    "import pandas as pd\n",
    "import contextily as ctx\n",
    "from geopandas import GeoDataFrame\n",
    "from shapely.geometry import Point, LineString\n",
    "from mpl_toolkits.basemap import Basemap\n",
    "from pyproj import Proj, transform\n",
    "import requests\n",
    "from google_drive_downloader import GoogleDriveDownloader as gdd #Needs installing using pip, unlike the others"
   ]
  },
  {
   "cell_type": "code",
   "execution_count": null,
   "metadata": {},
   "outputs": [],
   "source": [
    "#download testdata and unzip in testdata directory (https://drive.google.com/open?id=1xNhMZnWKxFP7on1reXxecq7XdTuJCSa2)\n",
    "\n",
    "\n",
    "gdd.download_file_from_google_drive(file_id='1xNhMZnWKxFP7on1reXxecq7XdTuJCSa2',\n",
    "                                    dest_path='./testdata/bergermeer.zip',\n",
    "                                    unzip=True)"
   ]
  },
  {
   "cell_type": "code",
   "execution_count": null,
   "metadata": {},
   "outputs": [],
   "source": [
    "#helper function to create OpenStreetMap background for plot\n",
    "def add_basemap(ax, zoom, url='http://tile.stamen.com/terrain/tileZ/tileX/tileY.png'):\n",
    "    xmin, xmax, ymin, ymax = ax.axis()\n",
    "    basemap, extent = ctx.bounds2img(xmin, ymin, xmax, ymax, zoom=zoom, url=url)\n",
    "    ax.imshow(basemap, extent=extent, interpolation='bilinear')\n",
    "    # restore original x/y limits\n",
    "    ax.axis((xmin, xmax, ymin, ymax))"
   ]
  },
  {
   "cell_type": "code",
   "execution_count": null,
   "metadata": {},
   "outputs": [],
   "source": [
    "#Define location of raw results and gridadministration\n",
    "result_path = 'testdata/'\n",
    "nc = os.path.join(result_path,'results_3di.nc')\n",
    "f = os.path.join(result_path,'gridadmin.h5')\n",
    "\n",
    "#Load files into gr object\n",
    "ga = GridH5Admin(f)\n",
    "gr = GridH5ResultAdmin(f,nc)"
   ]
  },
  {
   "cell_type": "code",
   "execution_count": null,
   "metadata": {},
   "outputs": [],
   "source": [
    "#subset only 1D nodes\n",
    "nodes_1d = gr.nodes.subset('1D_ALL')\n",
    "\n",
    "#Get the x,y-coordinates from the 1D nodes\n",
    "nodes_1d_coordinates = nodes_1d.coordinates\n",
    "\n",
    "#Read the whole timeserie for the waterlevel for the subset of 1D nodes into the wl variable\n",
    "wl = nodes_1d.timeseries(start_time=0,end_time=gr.nodes.timestamps[-1]).s1"
   ]
  },
  {
   "cell_type": "code",
   "execution_count": null,
   "metadata": {},
   "outputs": [],
   "source": [
    "#Read the reference (channel bottom level, stored in the z_coordinate) as a minimum waterlevel \n",
    "ref_lvl = gr.cells.subset('1D_ALL').z_coordinate\n",
    "\n",
    "#Read the initial waterlevel (-9999 is a dry bed, so use maximum value of the reference level and the initial waterlevel)\n",
    "wl_ini = np.amax([wl[0],ref_lvl],axis=0)\n",
    "\n",
    "#Determine the maximum waterlevel, taking the greatest value of the maximum waterlevel and the reference level\n",
    "wl_max = np.amax([np.amax(wl,axis=0),ref_lvl],axis=0)\n",
    "\n",
    "#Determine the difference between the maximum waterlevel and the initial waterlevel\n",
    "wl_max_increase = wl_max - wl_ini"
   ]
  },
  {
   "cell_type": "code",
   "execution_count": null,
   "metadata": {},
   "outputs": [],
   "source": [
    "#Write data to dataframe\n",
    "x = nodes_1d_coordinates[0]\n",
    "y = nodes_1d_coordinates[1]\n",
    "df = pd.DataFrame({'x': x, 'y': y, 'max_increase' : wl_max_increase}).sort_values(by=['max_increase'])\n",
    "\n",
    "#output data to Comma Seperated Value file\n",
    "#df.to_csv('testdata/output.csv')"
   ]
  },
  {
   "cell_type": "code",
   "execution_count": null,
   "metadata": {},
   "outputs": [],
   "source": [
    "#Create an extra column containing Shapely points\n",
    "df['geometry'] = df.apply(Point, axis=1)\n",
    "\n",
    "#Create a GeoPandas dataframe in Webmercator projection (for projection on OpenStreetMap)\n",
    "crs = {'init': 'epsg:{}'.format(ga.epsg_code)}\n",
    "gdf = GeoDataFrame(df, crs=crs, geometry=df['geometry']).to_crs({'init': 'epsg:3857'})\n",
    "gdf[\"category\"] = pd.qcut(gdf['max_increase'],q=9,duplicates='drop', labels=[1,2,3,4,5,6,7,8,9])"
   ]
  },
  {
   "cell_type": "code",
   "execution_count": null,
   "metadata": {},
   "outputs": [],
   "source": [
    "#Set up a Basemap object with the model extend (lower-left corner and upper-right corner)\n",
    "inProj = Proj(init='epsg:{}'.format(ga.epsg_code))\n",
    "outProj = Proj(init='epsg:4326')\n",
    "\n",
    "llcrnr = transform(inProj,outProj,ga.get_model_extent()[0],ga.get_model_extent()[1])\n",
    "urcrnr = transform(inProj,outProj,ga.get_model_extent()[2],ga.get_model_extent()[3])\n",
    "\n",
    "m = Basemap(llcrnrlon=llcrnr[0],llcrnrlat=llcrnr[1],urcrnrlon=urcrnr[0],urcrnrlat=urcrnr[1],lat_ts=20,\n",
    "            resolution='h',projection='merc',lon_0=-4.36,lat_0=54.5)"
   ]
  },
  {
   "cell_type": "code",
   "execution_count": null,
   "metadata": {},
   "outputs": [],
   "source": [
    "#Plot the maximum waterlevel increase on the basemap with an OpenStreetMap background\n",
    "ax = gdf.plot(column='category',figsize=(15, 15), alpha=0.8, markersize=12,cmap='Blues')\n",
    "ax.set_axis_off()\n",
    "ax.set_title(\"Maximum water level increase\")\n",
    "#add_basemap(ax, zoom=8,url=ctx.sources.OSM_A)"
   ]
  },
  {
   "cell_type": "code",
   "execution_count": null,
   "metadata": {},
   "outputs": [],
   "source": [
    "#Make a subset of 1D flowlines\n",
    "flowlines_1d = gr.lines.subset('1D')\n",
    "\n",
    "#Request the discharge (q) from start to end of the simulation of alle 1D flowlines\n",
    "q_1d = flowlines_1d.timeseries(start_time=0,end_time=gr.lines.timestamps[-1]).q\n",
    "\n",
    "#request the coordinates of begin/end points of flowlines\n",
    "flowlines_1d_coordinates = flowlines_1d.data['line_coords']"
   ]
  },
  {
   "cell_type": "code",
   "execution_count": null,
   "metadata": {},
   "outputs": [],
   "source": [
    "#Calculate the maximum (absolute, so either direction) discharge in time of every line\n",
    "q_max = np.amax(np.abs(q_1d),axis=0)[1:]\n",
    "\n",
    "#Calculate the average discharge in type of every line\n",
    "q_avg = np.mean(q_1d,axis=0)[1:]"
   ]
  },
  {
   "cell_type": "code",
   "execution_count": null,
   "metadata": {},
   "outputs": [],
   "source": [
    "#Create a GeoPandas GeoDataFrame with LineStrings as geometry column\n",
    "x_from = flowlines_1d_coordinates[0][1:]\n",
    "y_from = flowlines_1d_coordinates[1][1:]\n",
    "x_to = flowlines_1d_coordinates[2][1:]\n",
    "y_to = flowlines_1d_coordinates[3][1:]\n",
    "df_lines = pd.DataFrame({'x_from': x_from, 'y_from': y_from,'x_to': x_to, 'y_to': y_to, 'q_max' : q_max}).sort_values(by=['q_max'])\n",
    "df_lines['point_from'] = df_lines[['x_from','y_from']].apply(Point, axis=1)\n",
    "df_lines['point_to'] = df_lines[['x_to','y_to']].apply(Point, axis=1)\n",
    "\n",
    "\n",
    "def points_to_line(a):\n",
    "    return LineString([a[0],a[1]])\n",
    "\n",
    "df_lines['geometry'] = df_lines[['point_from','point_to']].apply(points_to_line, axis=1)\n",
    "\n",
    "gdf_lines = GeoDataFrame(df_lines, crs=crs, geometry=df_lines['geometry']).to_crs({'init': 'epsg:3857'})\n",
    "gdf_lines[\"category\"] = pd.qcut(gdf_lines['q_max'],q=9,duplicates='drop', labels=[1,2,3,4,5,6,7,8,9])"
   ]
  },
  {
   "cell_type": "code",
   "execution_count": null,
   "metadata": {},
   "outputs": [],
   "source": [
    "#Set up a Basemap object with the model extend (lower-left corner and upper-right corner)\n",
    "inProj = Proj(init='epsg:{}'.format(ga.epsg_code))\n",
    "outProj = Proj(init='epsg:4326')\n",
    "\n",
    "llcrnr = transform(inProj,outProj,ga.get_model_extent()[0],ga.get_model_extent()[1])\n",
    "urcrnr = transform(inProj,outProj,ga.get_model_extent()[2],ga.get_model_extent()[3])\n",
    "\n",
    "#m = Basemap(llcrnrlon=llcrnr[0],llcrnrlat=llcrnr[1],urcrnrlon=urcrnr[0],urcrnrlat=urcrnr[1],lat_ts=20,\n",
    "#            resolution='h',projection='merc',lon_0=-4.36,lat_0=54.5)"
   ]
  },
  {
   "cell_type": "code",
   "execution_count": null,
   "metadata": {},
   "outputs": [],
   "source": [
    "linewidth = gdf_lines.as_matrix(columns=gdf_lines.columns[4:5])\n",
    "ax_lines = gdf_lines.plot(column='q_max',figsize=(15, 15), alpha=0.8, linewidth=gdf_lines['category'].as_matrix()/4,cmap='OrRd', scheme='quantiles')\n",
    "ax_lines.set_axis_off()\n",
    "ax_lines.set_title(\"Maximum discharge level increase\")\n",
    "#add_basemap(ax_lines, zoom=12,url=ctx.sources.OSM_A)"
   ]
  }
 ],
 "metadata": {
  "kernelspec": {
   "display_name": "Python 3",
   "language": "python",
   "name": "python3"
  },
  "language_info": {
   "codemirror_mode": {
    "name": "ipython",
    "version": 3
   },
   "file_extension": ".py",
   "mimetype": "text/x-python",
   "name": "python",
   "nbconvert_exporter": "python",
   "pygments_lexer": "ipython3",
   "version": "3.7.1"
  }
 },
 "nbformat": 4,
 "nbformat_minor": 2
}
