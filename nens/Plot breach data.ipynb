{
 "cells": [
  {
   "cell_type": "markdown",
   "metadata": {},
   "source": [
    "# Plot breach data\n",
    "\n",
    "Using this script you can plot data regarding breaches in a 3Di model. Plots include breach discharge, velocity, width, depth, waterlevel on both sides of the breach.\n",
    "\n",
    "- Author: Emiel Verstegen, 2019\n",
    "\n",
    "- email: emiel.verstegen@nelen-schuurmans.nl"
   ]
  },
  {
   "cell_type": "code",
   "execution_count": null,
   "metadata": {},
   "outputs": [],
   "source": [
    "#import libraries, make sure you have them installed on your Python environment\n",
    "from threedigrid.admin.gridresultadmin import GridH5ResultAdmin\n",
    "from threedigrid.admin.gridadmin import GridH5Admin\n",
    "import os\n",
    "import matplotlib.pyplot as plt\n",
    "import numpy as np\n",
    "import math\n",
    "from pyproj import Proj, transform\n",
    "from google_drive_downloader import GoogleDriveDownloader as gdd #Needs installing using pip, unlike the others"
   ]
  },
  {
   "cell_type": "code",
   "execution_count": null,
   "metadata": {},
   "outputs": [],
   "source": [
    "#download testdata and unzip in testdata directory (https://drive.google.com/open?id=1xNhMZnWKxFP7on1reXxecq7XdTuJCSa2)\n",
    "\n",
    "\n",
    "gdd.download_file_from_google_drive(file_id='1xNhMZnWKxFP7on1reXxecq7XdTuJCSa2',\n",
    "                                    dest_path='./testdata/bergermeer.zip',\n",
    "                                    unzip=True)"
   ]
  },
  {
   "cell_type": "code",
   "execution_count": null,
   "metadata": {},
   "outputs": [],
   "source": [
    "#Define location of raw results and gridadministration\n",
    "result_path = 'testdata/'\n",
    "nc = os.path.join(result_path,'results_3di.nc')\n",
    "f = os.path.join(result_path,'gridadmin.h5')\n",
    "\n",
    "#Load files into gr object\n",
    "ga = GridH5Admin(f)\n",
    "gr = GridH5ResultAdmin(f,nc)"
   ]
  },
  {
   "cell_type": "code",
   "execution_count": null,
   "metadata": {},
   "outputs": [],
   "source": [
    "#subset only 1D nodes\n",
    "breaches = gr.breaches\n",
    "breach_lines = gr.lines.filter(kcu__eq=55)"
   ]
  },
  {
   "cell_type": "code",
   "execution_count": null,
   "metadata": {},
   "outputs": [],
   "source": [
    "breach_idx = breaches.levl[1:]\n",
    "\n",
    "#Loop over all breaches in the model (in the testdata there is only 1 breach)\n",
    "for breach_id in breach_idx:\n",
    "    print(\"Breach flowline id: {}\".format(breach_id))\n",
    "    breach =  gr.breaches.filter(levl__eq=breach_id)\n",
    "    flowline = gr.lines.filter(id__eq=breach_id)\n",
    "    \n",
    "    #extract the breach depth and width from the results\n",
    "    depth = breach.timeseries(start_time=1,end_time=gr.nodes.timestamps[-1]).breach_depth\n",
    "    width = breach.timeseries(start_time=1,end_time=gr.nodes.timestamps[-1]).breach_width\n",
    "    \n",
    "    #extract the flowline discharge and velocity from the results\n",
    "    discharge = flowline.timeseries(start_time=1,end_time=gr.nodes.timestamps[-1]).q\n",
    "    velocity = flowline.timeseries(start_time=1,end_time=gr.nodes.timestamps[-1]).u1\n",
    "    \n",
    "    #select the waterlevel nodes at the beginning and end of the breach-flowline\n",
    "    start_node_id = flowline.line[0][0]\n",
    "    end_node_id = flowline.line[1][0]\n",
    "    start_node = gr.nodes.filter(id__eq=start_node_id)\n",
    "    end_node = gr.nodes.filter(id__eq=end_node_id)\n",
    "    \n",
    "    #extract the waterlevel at both sides of the breach\n",
    "    wl_startnode = start_node.timeseries(start_time=1,end_time=gr.nodes.timestamps[-1]).s1\n",
    "    wl_endnode = end_node.timeseries(start_time=1,end_time=gr.nodes.timestamps[-1]).s1\n",
    "    \n",
    "    #extract the timestamps of the simulation\n",
    "    ts = gr.nodes.timestamps[1:]\n",
    "    \n",
    "    #Replace -9999 values as NaN\n",
    "    nodatavalue = -9999\n",
    "    depth[depth==nodatavalue]=np.nan\n",
    "    width[width==nodatavalue]=np.nan\n",
    "    discharge[discharge==nodatavalue]=np.nan\n",
    "    velocity[velocity==nodatavalue]=np.nan\n",
    "    wl_startnode[wl_startnode==nodatavalue]=np.nan\n",
    "    wl_endnode[wl_endnode==nodatavalue]=np.nan\n",
    "\n",
    "    fig = plt.figure(figsize=(20,10))\n",
    "    ax1 = plt.subplot2grid((2, 2), (0, 0))\n",
    "    ax2 = plt.subplot2grid((2, 2), (0, 1))\n",
    "    ax3 = plt.subplot2grid((2, 2), (1, 0))\n",
    "    ax4 = plt.subplot2grid((2, 2), (1, 1))\n",
    "\n",
    "    fig.suptitle('Breach with id {}'\n",
    "                 .format(breach_id,))\n",
    "    \n",
    "    ax1.plot(ts, discharge)\n",
    "    ax1.set_title(\"Discharge [m3/s]\")\n",
    "    \n",
    "    ax2.plot(ts, velocity)\n",
    "    ax2.set_title(\"Velocity [m/s]\")\n",
    "    \n",
    "    ax3.plot(ts,wl_startnode)\n",
    "    ax3.plot(ts,wl_endnode)\n",
    "    ax3.set_title(\"Water levels [m+MSL]\")\n",
    "    \n",
    "    ax4.plot(ts,width)\n",
    "    ax4.set_title(\"Breach width [m]\")"
   ]
  },
  {
   "cell_type": "code",
   "execution_count": null,
   "metadata": {},
   "outputs": [],
   "source": []
  },
  {
   "cell_type": "code",
   "execution_count": null,
   "metadata": {},
   "outputs": [],
   "source": []
  }
 ],
 "metadata": {
  "kernelspec": {
   "display_name": "Python 3",
   "language": "python",
   "name": "python3"
  },
  "language_info": {
   "codemirror_mode": {
    "name": "ipython",
    "version": 3
   },
   "file_extension": ".py",
   "mimetype": "text/x-python",
   "name": "python",
   "nbconvert_exporter": "python",
   "pygments_lexer": "ipython3",
   "version": "3.7.1"
  }
 },
 "nbformat": 4,
 "nbformat_minor": 2
}
