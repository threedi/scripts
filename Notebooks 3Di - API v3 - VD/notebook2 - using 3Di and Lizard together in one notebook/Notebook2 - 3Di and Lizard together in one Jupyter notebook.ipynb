{
 "cells": [
  {
   "cell_type": "markdown",
   "id": "twelve-logan",
   "metadata": {},
   "source": [
    "<img style=\"float: left;\" alt=\"Drawing\" src=\"./figures/3Di_beeldmerk_RGB.png\" width=\"100\"/> </td>\n",
    "<img style=\"float: right;\" alt=\"Drawing\" src=\"./figures/lizard-beeldmerk-donker-groen.jpg\" width=\"80\"/> </td>                                                                                                                            "
   ]
  },
  {
   "cell_type": "markdown",
   "id": "earned-yorkshire",
   "metadata": {},
   "source": [
    "## Using 3Di and Lizard together in one Jupyter notebook"
   ]
  },
  {
   "cell_type": "markdown",
   "id": "generous-sailing",
   "metadata": {},
   "source": [
    "Welcome! In this notebook we will show how our two IT products <a href=\"https://3diwatermanagement.com/\">3Di</a> and <a href=\"https://lizard.net/\">Lizard</a> can be used together for an operational 3Di model. The following steps will be taken according to an example of an 3Di model:\n",
    "- **step 1:** Starting a 3Di simulation by using the threedi-api\n",
    "- **step 2:** Using radar rainfall date from Lizard for the simulation\n",
    "- **step 3:** Downloading the results of the 3Di-simulation\n",
    "- **step 4:** Analysing the results and validate with measurements from Lizard"
   ]
  },
  {
   "cell_type": "markdown",
   "id": "czech-tennessee",
   "metadata": {},
   "source": [
    "For this tutorial we make use of the \"BWN-Schermer\" 3Di-model:\n",
    "\n",
    "\n",
    "<img style=\"float: left;\" alt=\"Drawing\" src=\"./figures/3di_model_bwn_schermer.PNG\" width=\"700\"/> "
   ]
  },
  {
   "cell_type": "markdown",
   "id": "recognized-suffering",
   "metadata": {},
   "source": [
    "**Step 1: Starting a 3Di simulation by using the threedi-api**"
   ]
  },
  {
   "cell_type": "markdown",
   "id": "dutch-richmond",
   "metadata": {},
   "source": [
    "Importing all required packages:"
   ]
  },
  {
   "cell_type": "code",
   "execution_count": 11,
   "id": "designing-satisfaction",
   "metadata": {},
   "outputs": [],
   "source": [
    "from datetime import datetime\n",
    "from getpass import getpass\n",
    "import pandas as pd\n",
    "import json\n",
    "from openapi_client import ApiException, SimulationsApi, OrganisationsApi\n",
    "from openapi_client.api import AuthApi\n",
    "from openapi_client.api import ThreedimodelsApi\n",
    "from openapi_client.models import RasterEdit\n",
    "from threedi_api_client.threedi_api_client import ThreediApiClient\n",
    "from pandas.io.json import json_normalize\n",
    "import matplotlib.pyplot as plt\n",
    "from datetime import datetime, timedelta\n",
    "import requests"
   ]
  },
  {
   "cell_type": "markdown",
   "id": "juvenile-short",
   "metadata": {},
   "source": [
    "Provide credentials to connect to the threedi-api:"
   ]
  },
  {
   "cell_type": "code",
   "execution_count": 12,
   "id": "surprising-worse",
   "metadata": {},
   "outputs": [
    {
     "name": "stdout",
     "output_type": "stream",
     "text": [
      "Username: valerie.demetriades\n",
      "Password: ········\n"
     ]
    }
   ],
   "source": [
    "api_host = \"https://api.3di.live/v3.0\"\n",
    "username = input(\"Username: \")\n",
    "password = getpass(\"Password: \")\n",
    "config = {\n",
    "    \"API_HOST\": api_host,\n",
    "    \"API_USERNAME\": username,\n",
    "    \"API_PASSWORD\": password\n",
    "}\n",
    "\n",
    "api_client = ThreediApiClient(config=config)"
   ]
  },
  {
   "cell_type": "markdown",
   "id": "bizarre-republic",
   "metadata": {},
   "source": [
    "Check the connection with the provided credentials:"
   ]
  },
  {
   "cell_type": "code",
   "execution_count": 13,
   "id": "false-visiting",
   "metadata": {},
   "outputs": [
    {
     "name": "stdout",
     "output_type": "stream",
     "text": [
      "ERROR\n",
      "ERROR\n",
      "Successfully logged in as valerie.demetriades!\n"
     ]
    }
   ],
   "source": [
    "auth_api = AuthApi(api_client)\n",
    "\n",
    "try:\n",
    "    user = auth_api.auth_profile_list()\n",
    "except ApiException as e:\n",
    "    print(\"Oops, something went wrong. Maybe you made a typo?\")\n",
    "else:\n",
    "    print(f\"Successfully logged in as {user.username}!\")"
   ]
  },
  {
   "cell_type": "markdown",
   "id": "expired-nirvana",
   "metadata": {},
   "source": [
    "Let's find the model:"
   ]
  },
  {
   "cell_type": "code",
   "execution_count": 14,
   "id": "complicated-belarus",
   "metadata": {},
   "outputs": [
    {
     "data": {
      "text/plain": [
       "{'breach_count': '0',\n",
       " 'description': '',\n",
       " 'disabled': False,\n",
       " 'epsg': 28992,\n",
       " 'extent_one_d': {'coordinates': [[4.746346127179737, 52.55681213186901],\n",
       "                                  [4.888587808339217, 52.638657147508]],\n",
       "                  'type': 'LineString'},\n",
       " 'extent_two_d': {'coordinates': [[4.746025226172879, 52.55657076725733],\n",
       "                                  [4.889009767284062, 52.63922057415133]],\n",
       "                  'type': 'LineString'},\n",
       " 'extent_zero_d': None,\n",
       " 'id': 14916,\n",
       " 'inp_success': True,\n",
       " 'inpy_version': '3.0.26.7-1.4.20-1',\n",
       " 'lines_count': 107682,\n",
       " 'model_ini': 'bwn_schermer_1d2d_glg.ini',\n",
       " 'name': 'bwn_schermer_1d2d_glg',\n",
       " 'nodes_count': 53380,\n",
       " 'repository_slug': 'bwn-schermer',\n",
       " 'revision': 'https://api.3di.live/v3.0/revisions/3192/',\n",
       " 'revision_commit_date': '2020-02-26T10:50:00Z',\n",
       " 'revision_hash': '804f171ff4ec590f9e2aa40174feb9b5239513c5',\n",
       " 'revision_number': '20',\n",
       " 'slug': 'bwn-schermer-bwn_schermer_1d2d_glg-20-804f171ff4ec590f9e2aa40174feb9b5239513c5',\n",
       " 'storage_space': 5969662408,\n",
       " 'storage_space_humanized': '6.0 GB',\n",
       " 'url': 'https://api.3di.live/v3.0/threedimodels/14916/',\n",
       " 'user': 'Wietse van Gerwen'}"
      ]
     },
     "execution_count": 14,
     "metadata": {},
     "output_type": "execute_result"
    }
   ],
   "source": [
    "models_api = ThreedimodelsApi(api_client)\n",
    "\n",
    "models = models_api.threedimodels_list(name__icontains='bwn_schermer_1d2d_glg')\n",
    "my_model =models.results[0]\n",
    "my_model"
   ]
  },
  {
   "cell_type": "markdown",
   "id": "trying-transsexual",
   "metadata": {},
   "source": [
    "Let's see which organisations are available within my user account:"
   ]
  },
  {
   "cell_type": "code",
   "execution_count": 15,
   "id": "distinguished-dream",
   "metadata": {},
   "outputs": [
    {
     "name": "stdout",
     "output_type": "stream",
     "text": [
      "BWN HHNK: 48dac75bef8a42ebbb52e8f89bbdb9f2\n",
      "City of Parramatta: 33b32fe8031743909ef9259744c32cc1\n",
      "Course_A: 768684c9692f4a3695e014211d7fab41\n",
      "Hoogheemraadschap Hollands Noorderkwartier: 474afd212f2e4b4f82615142f1d67acb\n",
      "Nelen & Schuurmans: 61f5a464c35044c19bc7d4b42d7f58cb\n",
      "N&S Demo: a1993f6e13564e9687ae03a3604463f9\n"
     ]
    }
   ],
   "source": [
    "organisation_api = OrganisationsApi(api_client)\n",
    "\n",
    "organisations = organisation_api.organisations_list()\n",
    "\n",
    "\n",
    "for organisation in organisations.results:\n",
    "    print(f\"{organisation.name}: {organisation.unique_id}\")\n",
    "\n",
    "# In this example we use the organisation from N&S Demo:\n",
    "organisation_uuid = \"a1993f6e13564e9687ae03a3604463f9\""
   ]
  },
  {
   "cell_type": "markdown",
   "id": "complicated-venezuela",
   "metadata": {},
   "source": [
    "The next step is to create a simulation. Note that it will not run yet."
   ]
  },
  {
   "cell_type": "code",
   "execution_count": 16,
   "id": "capital-jonathan",
   "metadata": {},
   "outputs": [
    {
     "data": {
      "text/plain": [
       "{'created': 'now',\n",
       " 'duration': 10800,\n",
       " 'duration_humanized': '3 hours, 0 minutes, 0 seconds',\n",
       " 'end_datetime': datetime.datetime(2021, 2, 26, 17, 4, 4, tzinfo=tzutc()),\n",
       " 'id': 13105,\n",
       " 'name': 'demo_3di_lizard_notebook_schermer',\n",
       " 'organisation': 'a1993f6e13564e9687ae03a3604463f9',\n",
       " 'organisation_name': 'N&S Demo',\n",
       " 'slug': 'demo_3di_lizard_notebook_schermer-d20846df-ce15-4564-b7e2-a9275860003e',\n",
       " 'start_datetime': datetime.datetime(2021, 2, 26, 14, 4, 4, tzinfo=tzutc()),\n",
       " 'tags': '[]',\n",
       " 'threedimodel': 'https://api.3di.live/v3.0/threedimodels/14916/',\n",
       " 'threedimodel_id': 14916,\n",
       " 'url': 'https://api.3di.live/v3.0/simulations/13105/',\n",
       " 'user': 'valerie.demetriades',\n",
       " 'uuid': 'd20846df-ce15-4564-b7e2-a9275860003e'}"
      ]
     },
     "execution_count": 16,
     "metadata": {},
     "output_type": "execute_result"
    }
   ],
   "source": [
    "simulation_api = SimulationsApi(api_client)\n",
    "\n",
    "my_simulation = simulation_api.simulations_create(\n",
    "    data={\n",
    "        \"name\": \"demo_3di_lizard_notebook_schermer\",\n",
    "        \"threedimodel\": my_model.id,\n",
    "        \"organisation\": organisation_uuid,\n",
    "        \"start_datetime\": datetime.now(),\n",
    "        \"duration\": 10800  # in seconds, so we simulate for 3 hours\n",
    "    }\n",
    ")\n",
    "\n",
    "\n",
    "#print an overview of the simulation\n",
    "my_simulation\n"
   ]
  },
  {
   "cell_type": "code",
   "execution_count": 17,
   "id": "bottom-marsh",
   "metadata": {},
   "outputs": [
    {
     "name": "stdout",
     "output_type": "stream",
     "text": [
      "{'created': datetime.datetime(2021, 2, 26, 13, 4, 4, 172446, tzinfo=tzutc()),\n",
      " 'exit_code': None,\n",
      " 'id': 58923,\n",
      " 'name': 'created',\n",
      " 'paused': None,\n",
      " 'time': 0.0}\n"
     ]
    }
   ],
   "source": [
    "#check the status of the simulation with:\n",
    "status = simulation_api.simulations_status_list(my_simulation.id)\n",
    "print(status)"
   ]
  },
  {
   "cell_type": "markdown",
   "id": "southwest-wyoming",
   "metadata": {},
   "source": [
    "We can see the simulation has not started yet. The options at the name of the status can be: \"created\", \"started\" and \"finished\"."
   ]
  },
  {
   "cell_type": "markdown",
   "id": "excellent-venice",
   "metadata": {},
   "source": [
    "**Step 2: Using radar rainfall data from Lizard for the simulation**"
   ]
  },
  {
   "cell_type": "markdown",
   "id": "blond-importance",
   "metadata": {},
   "source": [
    "In previous step we created a simulation for the 3di model of v2_BWN Schermer. In this step we will add a rain event to the simulation and start the simulation. The rain event is extracted from the radar rainfall data within Lizard. We choose to simulate this specific date and time (15-11-2020 14:00 PM) and then extract the rainfall for 3 hours (until 17:00 PM). The simulation is also defined for 3 hours, which means the simulation stops immediately after the added rainfall event."
   ]
  },
  {
   "cell_type": "markdown",
   "id": "adult-labor",
   "metadata": {},
   "source": [
    "<table><tr>\n",
    "<td> <img alt=\"Drawing\" src=\"./figures/radar_rainfall_lizard.PNG\" width=\"4000\"/> </td>\n",
    "</tr></table>\n"
   ]
  },
  {
   "cell_type": "markdown",
   "id": "subject-courtesy",
   "metadata": {},
   "source": [
    "For this part, we also need to make a connection with the lizard api and we can use the same credentials as for the 3di part:"
   ]
  },
  {
   "cell_type": "code",
   "execution_count": 42,
   "id": "peripheral-vegetation",
   "metadata": {},
   "outputs": [
    {
     "name": "stdout",
     "output_type": "stream",
     "text": [
      "Enter username: valerie.demetriades\n",
      "Enter password: ········\n"
     ]
    }
   ],
   "source": [
    "username = input(\"Enter username: \")\n",
    "password = getpass(\"Enter password: \")\n",
    "headers = {\n",
    "            \"username\": username,\n",
    "            \"password\": password,\n",
    "            \"Content-Type\": \"application/json\",\n",
    "        }"
   ]
  },
  {
   "cell_type": "markdown",
   "metadata": {},
   "source": [
    "Now we have to define the starttime, endtime and duration of the chosen rainfall event and the uuid of the rainfall raster within Lizard:"
   ]
  },
  {
   "cell_type": "code",
   "execution_count": 25,
   "metadata": {},
   "outputs": [
    {
     "name": "stdout",
     "output_type": "stream",
     "text": [
      "Starttime of the radar rainfall event: 2020-11-15 14:00:00\n",
      "Endtime of the radar rainfall event: 2020-11-15 17:00:00\n",
      "Duration of the radar rainfall event in seconds: 10800.0 seconds\n",
      "Raster rainfall uuid of Lizard: 730d6675-35dd-4a35-aa9b-bfb8155f9ca7\n"
     ]
    }
   ],
   "source": [
    "#define start- and endtime of the radar rainfall data\n",
    "start = datetime(2020, 11, 15, 14, 00)\n",
    "end = start + timedelta(hours=3)\n",
    "duration = end - start\n",
    "print (\"Starttime of the radar rainfall event:\", start)\n",
    "print (\"Endtime of the radar rainfall event:\", end)\n",
    "print (\"Duration of the radar rainfall event in seconds:\", duration.total_seconds(), \"seconds\")\n",
    "\n",
    "uuid = \"730d6675-35dd-4a35-aa9b-bfb8155f9ca7\"\n",
    "print (\"Raster rainfall uuid of Lizard:\", uuid)"
   ]
  },
  {
   "cell_type": "markdown",
   "metadata": {},
   "source": [
    "Next step is to add this event to the created simulation in step 1 by making use of the threedi open api client:"
   ]
  },
  {
   "cell_type": "code",
   "execution_count": 28,
   "metadata": {},
   "outputs": [
    {
     "data": {
      "text/plain": [
       "{'duration': 10800,\n",
       " 'id': 1565,\n",
       " 'interval': 300,\n",
       " 'multiplier': 1.0,\n",
       " 'offset': 0,\n",
       " 'origin_offset': 0,\n",
       " 'reference_uuid': '730d6675-35dd-4a35-aa9b-bfb8155f9ca7',\n",
       " 'simulation': 'https://api.3di.live/v3.0/simulations/13105/',\n",
       " 'start_datetime': datetime.datetime(2020, 11, 15, 14, 0, tzinfo=tzutc()),\n",
       " 'store_path': 'rain',\n",
       " 'uid': '7fd480b5-d4f7-4f39-8716-2fa496d88ff7',\n",
       " 'units': 'm/s',\n",
       " 'url': 'https://api.3di.live/v3.0/simulations/13105/events/rain/rasters/lizard/1565/',\n",
       " 'user': 'valerie.demetriades'}"
      ]
     },
     "execution_count": 28,
     "metadata": {},
     "output_type": "execute_result"
    }
   ],
   "source": [
    "#Upload radar rainfall from Lizard and wait for it to be processed\n",
    "simulation_api.simulations_events_rain_rasters_lizard_create(\n",
    "            my_simulation.id,\n",
    "            data={\n",
    "                \"offset\": 0,\n",
    "                \"duration\": int(duration.total_seconds()),\n",
    "                \"reference_uuid\": uuid,\n",
    "                \"start_datetime\": start,\n",
    "                \"units\": \"m/s\",\n",
    "            },\n",
    "        )"
   ]
  },
  {
   "cell_type": "markdown",
   "metadata": {},
   "source": [
    "Let's print an overview of the added events to our simulation and check if the \"lizardrasterrain\" is not empty:"
   ]
  },
  {
   "cell_type": "code",
   "execution_count": 29,
   "metadata": {},
   "outputs": [
    {
     "name": "stdout",
     "output_type": "stream",
     "text": [
      "{'breach': [],\n",
      " 'fileboundaryconditions': None,\n",
      " 'filelaterals': [],\n",
      " 'filerasterrain': [],\n",
      " 'filerastersourcessinks': [],\n",
      " 'filetimeseriesrain': [],\n",
      " 'filetimeseriessourcessinks': [],\n",
      " 'initial_groundwaterlevel': None,\n",
      " 'initial_groundwaterraster': None,\n",
      " 'initial_onedwaterlevel': None,\n",
      " 'initial_onedwaterlevelpredefined': None,\n",
      " 'initial_savedstate': None,\n",
      " 'initial_twodwaterlevel': None,\n",
      " 'initial_twodwaterraster': None,\n",
      " 'initial_winddragcoefficient': None,\n",
      " 'laterals': [],\n",
      " 'lizardrasterrain': [{'duration': 10800,\n",
      "                       'id': 1565,\n",
      "                       'interval': 300,\n",
      "                       'multiplier': 1.0,\n",
      "                       'offset': 0,\n",
      "                       'origin_offset': 0,\n",
      "                       'reference_uuid': '730d6675-35dd-4a35-aa9b-bfb8155f9ca7',\n",
      "                       'simulation': 'https://api.3di.live/v3.0/simulations/13105/',\n",
      "                       'start_datetime': datetime.datetime(2020, 11, 15, 14, 0, tzinfo=tzutc()),\n",
      "                       'store_path': 'rain',\n",
      "                       'uid': '7fd480b5-d4f7-4f39-8716-2fa496d88ff7',\n",
      "                       'units': 'm/s',\n",
      "                       'url': 'https://api.3di.live/v3.0/simulations/13105/events/rain/rasters/lizard/1565/',\n",
      "                       'user': 'valerie.demetriades'}],\n",
      " 'lizardrastersourcessinks': [],\n",
      " 'lizardtimeseriesrain': [],\n",
      " 'lizardtimeseriessourcessinks': [],\n",
      " 'localrain': [],\n",
      " 'memorystructurecontrols': [],\n",
      " 'rasteredits': [],\n",
      " 'savedstates': [],\n",
      " 'tablestructurecontrols': [],\n",
      " 'timedstructurecontrols': [],\n",
      " 'timeseriesrain': [],\n",
      " 'timeseriessourcessinks': [],\n",
      " 'wind': []}\n"
     ]
    }
   ],
   "source": [
    "events = simulation_api.simulations_events(my_simulation.id)\n",
    "print(events)"
   ]
  },
  {
   "cell_type": "markdown",
   "metadata": {},
   "source": [
    "We can now run our simulation:"
   ]
  },
  {
   "cell_type": "code",
   "execution_count": 30,
   "metadata": {},
   "outputs": [
    {
     "data": {
      "text/plain": [
       "{'duration': None, 'max_rate': None, 'name': 'start', 'timeout': 300}"
      ]
     },
     "execution_count": 30,
     "metadata": {},
     "output_type": "execute_result"
    }
   ],
   "source": [
    "simulation_api.simulations_actions_create(my_simulation.id, data={\"name\": \"start\"})"
   ]
  },
  {
   "cell_type": "markdown",
   "metadata": {},
   "source": [
    "And check the status of the simulation with:"
   ]
  },
  {
   "cell_type": "code",
   "execution_count": 40,
   "metadata": {},
   "outputs": [
    {
     "name": "stdout",
     "output_type": "stream",
     "text": [
      "{'created': datetime.datetime(2021, 2, 26, 13, 20, 9, 280804, tzinfo=tzutc()),\n",
      " 'exit_code': None,\n",
      " 'id': 58927,\n",
      " 'name': 'initialized',\n",
      " 'paused': False,\n",
      " 'time': 0.0}\n"
     ]
    }
   ],
   "source": [
    "#check the status of the simulation with:\n",
    "status = simulation_api.simulations_status_list(my_simulation.id)\n",
    "print(status)"
   ]
  },
  {
   "cell_type": "markdown",
   "metadata": {},
   "source": [
    "**Step 3: Downloading the results of the 3Di-simulation**"
   ]
  },
  {
   "cell_type": "markdown",
   "metadata": {},
   "source": [
    "When our simulation has finished, it is time to analyse the results of the 3Di-model and validate the model with measurements from Lizard. Before that, we have to download all the results of the simulation. We select again the model and check if the status is finished:"
   ]
  },
  {
   "cell_type": "code",
   "execution_count": null,
   "metadata": {},
   "outputs": [],
   "source": [
    "simulation_api = SimulationsApi(api_client)\n",
    "\n",
    "simulation = simulation_api.simulations_list(\n",
    "    name=my_simulation.name, user__username=username\n",
    ").results[-2]\n",
    "status = simulation_api.simulations_status_list(simulation.id)\n",
    "\n",
    "print(simulation)\n",
    "print(f\"status: {status}\")\n",
    "assert status.name == 'finished'"
   ]
  },
  {
   "cell_type": "markdown",
   "metadata": {},
   "source": [
    "Let's see which result files are available and download all the results of the simulation model in a local folder:"
   ]
  },
  {
   "cell_type": "code",
   "execution_count": null,
   "metadata": {},
   "outputs": [],
   "source": [
    "result_files = simulation_api.simulations_results_files_list('12953')  #fill in the id of your simulation as above\n",
    "\n",
    "for result in result_files.results:\n",
    "    print(result)"
   ]
  },
  {
   "cell_type": "code",
   "execution_count": null,
   "metadata": {},
   "outputs": [],
   "source": [
    "download_folder = Path(f'Results {my_simulation.name}')\n",
    "download_folder.mkdir(exist_ok=True)\n",
    "\n",
    "for file in result_files.results:\n",
    "    download_url = simulation_api.simulations_results_files_download(\n",
    "        id=file.id, simulation_pk=simulation.id\n",
    "    )\n",
    "\n",
    "    file_path = download_folder / file.filename\n",
    "    r = requests.get(download_url.get_url)\n",
    "    with open(file_path, 'wb') as f:\n",
    "        for chunk in r.iter_content(chunk_size=8192):\n",
    "            f.write(chunk)\n",
    "\n",
    "    print(f\"Finished downloading {file.filename}\")"
   ]
  },
  {
   "cell_type": "markdown",
   "metadata": {},
   "source": [
    "In addition to the results of the 3Di-simulation, we also have to download the \"gridadmin.h5\" file of the simulation. This is a model specific file so it's under the threedimodels-api. We'll also download this file:"
   ]
  },
  {
   "cell_type": "code",
   "execution_count": null,
   "metadata": {},
   "outputs": [],
   "source": [
    "model_api = ThreedimodelsApi(api_client)\n",
    "\n",
    "threedi_model_id = simulation.threedimodel_id\n",
    "download_url = model_api.threedimodels_gridadmin_download(threedi_model_id)\n",
    "\n",
    "file_path = download_folder / \"gridadmin.h5\"\n",
    "r = requests.get(download_url.get_url)\n",
    "with open(file_path, \"wb\") as f:\n",
    "    for chunk in r.iter_content(chunk_size=8192):\n",
    "        f.write(chunk)\n",
    "\n",
    "print(f\"Finished downloading gridadmin.h5\")"
   ]
  },
  {
   "cell_type": "markdown",
   "metadata": {},
   "source": [
    "All the files are now on a local folder and we can go to the next step of validation."
   ]
  },
  {
   "cell_type": "markdown",
   "metadata": {},
   "source": [
    "**Analysing the results and validate with measurements from Lizard**"
   ]
  },
  {
   "cell_type": "code",
   "execution_count": null,
   "metadata": {},
   "outputs": [],
   "source": [
    "#Import libraries\n",
    "from threedigrid.admin.gridresultadmin import GridH5ResultAdmin\n",
    "from threedigrid.admin.gridadmin import GridH5Admin\n",
    "import os"
   ]
  },
  {
   "cell_type": "code",
   "execution_count": null,
   "metadata": {},
   "outputs": [],
   "source": [
    "#Define paths and files\n",
    "result_path = download_folder\n",
    "nc = os.path.join(result_path,'results_3di.nc')\n",
    "f = os.path.join(result_path,'gridadmin.h5')\n",
    "\n",
    "#Load files into gr object\n",
    "ga = GridH5Admin(f)\n",
    "gr = GridH5ResultAdmin(f,nc)"
   ]
  },
  {
   "cell_type": "code",
   "execution_count": null,
   "metadata": {},
   "outputs": [],
   "source": [
    "#deze plot nog veranderen met locatie van gemaal waar we de validatie voor gaan uitvoeren"
   ]
  },
  {
   "cell_type": "code",
   "execution_count": null,
   "metadata": {},
   "outputs": [],
   "source": [
    "plt.figure()\n",
    "#plotting only your 2d open water grid \n",
    "xyc = ga.nodes.subset('2d_open_water').coordinates\n",
    "plt.plot(xyc[0], xyc[1], '.', label='2D open water')\n",
    "\n",
    "#plotting your 1D grid\n",
    "xyc = ga.nodes.subset('1D_ALL').coordinates\n",
    "plt.plot(xyc[0], xyc[1], '.', label='1D all', color='green', markersize=4)\n",
    "\n",
    "# Setting the axis right\n",
    "plt.legend()\n",
    "plt.axis('equal')\n",
    "plt.axis('tight')\n",
    "plt.title(\"2D Open water and 1D grid - 3Di simulation BWN Schermer\", fontsize=20)"
   ]
  },
  {
   "cell_type": "code",
   "execution_count": null,
   "metadata": {},
   "outputs": [],
   "source": [
    "#hier komt het stukje van het ophalen van de tijdserie waterlevel van het gemaal."
   ]
  },
  {
   "cell_type": "markdown",
   "metadata": {},
   "source": [
    "Let's perform a validation on the waterlevels of the pumping station Beatrix. The waterlevel timeseries of this pumping station are real-time available in the datawarehouse and analysis platform Lizard."
   ]
  },
  {
   "cell_type": "code",
   "execution_count": 58,
   "metadata": {},
   "outputs": [],
   "source": [
    "#extract the waterlevel timeseries from Lizard with the API\n",
    "\n",
    "#Find the uuid of the timeseries you want to query\n",
    "uuid = \"09b5968e-9811-4539-89b3-738a4bbb6c4d\"\n",
    "# we're going to query request the data, similar to the simulation:\n",
    "params= {'start':'2020-11-15T14:00:00Z', 'end':'2020-11-15T17:00:00Z', 'fields':'value', 'page_size':'10000000'} #Note that we use a page size of 100.\n",
    "url = \"https://nens.lizard.net/api/v4/timeseries/{}/events/\".format(uuid)    \n",
    "\n",
    "#Retrieve the 'results' attribute of the response using a JSON interpreter\n",
    "time_series_events = pd.DataFrame(requests.get(url=url,headers=headers, params=params).json()['results'])"
   ]
  },
  {
   "cell_type": "code",
   "execution_count": 59,
   "metadata": {},
   "outputs": [
    {
     "data": {
      "text/html": [
       "<div>\n",
       "<style scoped>\n",
       "    .dataframe tbody tr th:only-of-type {\n",
       "        vertical-align: middle;\n",
       "    }\n",
       "\n",
       "    .dataframe tbody tr th {\n",
       "        vertical-align: top;\n",
       "    }\n",
       "\n",
       "    .dataframe thead th {\n",
       "        text-align: right;\n",
       "    }\n",
       "</style>\n",
       "<table border=\"1\" class=\"dataframe\">\n",
       "  <thead>\n",
       "    <tr style=\"text-align: right;\">\n",
       "      <th></th>\n",
       "      <th>value</th>\n",
       "    </tr>\n",
       "    <tr>\n",
       "      <th>datetime</th>\n",
       "      <th></th>\n",
       "    </tr>\n",
       "  </thead>\n",
       "  <tbody>\n",
       "    <tr>\n",
       "      <th>2020-11-15 14:00:00+00:00</th>\n",
       "      <td>-4.973</td>\n",
       "    </tr>\n",
       "    <tr>\n",
       "      <th>2020-11-15 14:15:00+00:00</th>\n",
       "      <td>-4.961</td>\n",
       "    </tr>\n",
       "    <tr>\n",
       "      <th>2020-11-15 14:30:00+00:00</th>\n",
       "      <td>-4.963</td>\n",
       "    </tr>\n",
       "    <tr>\n",
       "      <th>2020-11-15 14:45:00+00:00</th>\n",
       "      <td>-4.961</td>\n",
       "    </tr>\n",
       "    <tr>\n",
       "      <th>2020-11-15 15:00:00+00:00</th>\n",
       "      <td>-4.958</td>\n",
       "    </tr>\n",
       "    <tr>\n",
       "      <th>2020-11-15 15:15:00+00:00</th>\n",
       "      <td>-4.957</td>\n",
       "    </tr>\n",
       "    <tr>\n",
       "      <th>2020-11-15 15:30:00+00:00</th>\n",
       "      <td>-4.953</td>\n",
       "    </tr>\n",
       "    <tr>\n",
       "      <th>2020-11-15 15:45:00+00:00</th>\n",
       "      <td>-4.950</td>\n",
       "    </tr>\n",
       "    <tr>\n",
       "      <th>2020-11-15 16:00:00+00:00</th>\n",
       "      <td>-4.940</td>\n",
       "    </tr>\n",
       "    <tr>\n",
       "      <th>2020-11-15 16:15:00+00:00</th>\n",
       "      <td>-5.010</td>\n",
       "    </tr>\n",
       "    <tr>\n",
       "      <th>2020-11-15 16:30:00+00:00</th>\n",
       "      <td>-5.012</td>\n",
       "    </tr>\n",
       "    <tr>\n",
       "      <th>2020-11-15 16:45:00+00:00</th>\n",
       "      <td>-5.020</td>\n",
       "    </tr>\n",
       "  </tbody>\n",
       "</table>\n",
       "</div>"
      ],
      "text/plain": [
       "                           value\n",
       "datetime                        \n",
       "2020-11-15 14:00:00+00:00 -4.973\n",
       "2020-11-15 14:15:00+00:00 -4.961\n",
       "2020-11-15 14:30:00+00:00 -4.963\n",
       "2020-11-15 14:45:00+00:00 -4.961\n",
       "2020-11-15 15:00:00+00:00 -4.958\n",
       "2020-11-15 15:15:00+00:00 -4.957\n",
       "2020-11-15 15:30:00+00:00 -4.953\n",
       "2020-11-15 15:45:00+00:00 -4.950\n",
       "2020-11-15 16:00:00+00:00 -4.940\n",
       "2020-11-15 16:15:00+00:00 -5.010\n",
       "2020-11-15 16:30:00+00:00 -5.012\n",
       "2020-11-15 16:45:00+00:00 -5.020"
      ]
     },
     "execution_count": 59,
     "metadata": {},
     "output_type": "execute_result"
    }
   ],
   "source": [
    "#perform some conversions before plotting the timeseries\n",
    "time_series_events['datetime'] = pd.to_datetime(time_series_events['time'])\n",
    "time_series_events = time_series_events[['datetime', 'value']]\n",
    "time_series_events.set_index('datetime', inplace=True)\n",
    "\n",
    "time_series_events"
   ]
  },
  {
   "cell_type": "code",
   "execution_count": 77,
   "metadata": {},
   "outputs": [
    {
     "data": {
      "text/plain": [
       "Text(0.5, 1.0, 'Pumping station Beatrix HHNK')"
      ]
     },
     "execution_count": 77,
     "metadata": {},
     "output_type": "execute_result"
    },
    {
     "data": {
      "image/png": "[encoded data removed]",
      "text/plain": [
       "<Figure size 1440x504 with 1 Axes>"
      ]
     },
     "metadata": {
      "needs_background": "light"
     },
     "output_type": "display_data"
    }
   ],
   "source": [
    "#plot the timeseries\n",
    "plt.style.use('bmh')\n",
    "time_series_events.plot(figsize=(20,7))\n",
    "plt.xlabel('15th November 2020', fontsize='x-large')\n",
    "plt.ylabel('m NAP', fontsize='x-large')\n",
    "plt.xticks(fontsize=15);\n",
    "plt.yticks(fontsize=15);\n",
    "plt.legend([\"Measured water level - Lizard\"], frameon=True, fontsize=15, edgecolor='k')\n",
    "plt.title('Pumping station Beatrix HHNK', fontweight='bold')"
   ]
  },
  {
   "cell_type": "code",
   "execution_count": null,
   "metadata": {},
   "outputs": [],
   "source": [
    "#in bovenstaande plot nog de modelled water level plotten"
   ]
  },
  {
   "cell_type": "markdown",
   "metadata": {},
   "source": [
    "Ofcourse, the timeseries do not fully match. There is a certain state at the beginning of the simulation, that is not inside this simulation. It is however possible to also take this state into account."
   ]
  },
  {
   "cell_type": "markdown",
   "metadata": {},
   "source": [
    "\n",
    "**-----------------------------------------------------------------------------------------------------------------------------------------------------------------------------------------------------------------**\n",
    "The end\n",
    "\n",
    "In this tutorial we showed you how 3Di and Lizard can be used together, by taking the following steps into account:\n",
    "- how to start a simulation of a 3Di-model, \n",
    "- how to radar rainfall data from Lizard to your simulation, \n",
    "- how to download the results of the model simulation,\n",
    "- and in the end how to visualise your model and validate simulation results with real-time data from Lizard.\n",
    "\n",
    "This is all possible within a Jupyter notebook by making use of the API-v3 (3Di) and the REST-API from Lizard . Ofcourse there are a lot more options for the analysis (validation) possible. Or for the events you can add to your simulation. \n",
    "\n",
    "Do you want to learn more or are you interested in some more possible analysis in a jupyter notebook? \n",
    "\n",
    "**Please contact**:\n",
    "\n",
    "Valerie Demetriades | valerie.demetriades@nelen-schuurmans.nl\n",
    "\n",
    "Jonas van Schrojenstein | jonas.vanschrojenstein@nelen-schuurmans.nl\n"
   ]
  },
  {
   "cell_type": "code",
   "execution_count": null,
   "metadata": {},
   "outputs": [],
   "source": []
  }
 ],
 "metadata": {
  "kernelspec": {
   "display_name": "Python 3",
   "language": "python",
   "name": "python3"
  },
  "language_info": {
   "codemirror_mode": {
    "name": "ipython",
    "version": 3
   },
   "file_extension": ".py",
   "mimetype": "text/x-python",
   "name": "python",
   "nbconvert_exporter": "python",
   "pygments_lexer": "ipython3",
   "version": "3.6.12"
  }
 },
 "nbformat": 4,
 "nbformat_minor": 5
}
